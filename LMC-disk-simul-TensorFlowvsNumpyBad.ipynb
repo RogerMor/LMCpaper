{
 "cells": [
  {
   "cell_type": "markdown",
   "metadata": {
    "colab_type": "text",
    "id": "cF4c34EC2Mfm"
   },
   "source": []
  },
  {
   "cell_type": "markdown",
   "metadata": {},
   "source": [
    "# BAD Version do not use it\n",
    "# LMC 3D structure (Still pending the matrix treatment, now is not correct)\n",
    "\n",
    "Luis,Angel,Xavi,Hector,Alfred,Roger...y viceversa :)"
   ]
  },
  {
   "cell_type": "markdown",
   "metadata": {},
   "source": [
    "## Generación de Simulaciones"
   ]
  },
  {
   "cell_type": "code",
   "execution_count": 40,
   "metadata": {
    "colab": {
     "base_uri": "https://localhost:8080/",
     "height": 35
    },
    "colab_type": "code",
    "executionInfo": {
     "elapsed": 3014,
     "status": "ok",
     "timestamp": 1590510707446,
     "user": {
      "displayName": "Héctor Delgado-Ureña Poirier",
      "photoUrl": "",
      "userId": "14267993026742087240"
     },
     "user_tz": -60
    },
    "id": "9TTepJZwXsB9",
    "outputId": "94f04120-f001-4d3f-d8bd-53417840354b"
   },
   "outputs": [
    {
     "name": "stdout",
     "output_type": "stream",
     "text": [
      "Tensorflow version 2.2.0\n"
     ]
    }
   ],
   "source": [
    "#######################\n",
    "#### Load packages ####\n",
    "#######################\n",
    "\n",
    "\n",
    "from __future__ import absolute_import, division, print_function, unicode_literals\n",
    "import functools\n",
    "from scipy import stats\n",
    "import matplotlib.pyplot as plt\n",
    "from mpl_toolkits.axes_grid1 import make_axes_locatable\n",
    "# import warnings\n",
    "import json\n",
    "import sys\n",
    "import numpy as np\n",
    "# import csv\n",
    "#import seaborn as sns\n",
    "import pandas as pd\n",
    "import time\n",
    "#import arviz as az  # https://arviz-devs.github.io/arviz/index.html\n",
    "\n",
    "#%tensorflow_version 2.x\n",
    "#import os\n",
    "#os.environ[\"CUDA_VISIBLE_DEVICES\"]=\"-1\"    \n",
    "import tensorflow as tf\n",
    "print(\"Tensorflow version \" + tf.__version__)\n",
    "\n",
    " \n",
    "import tensorflow_probability as tfp\n",
    "#import matplotlib\n",
    "#import matplotlib.pyplot as plt\n",
    "#matplotlib.use('Agg')\n",
    "tfd = tfp.distributions\n",
    "tfb = tfp.bijectors\n",
    "\n",
    "from tensorflow.python.ops import math_ops\n",
    "from tensorflow.python.ops import array_ops\n",
    "from tensorflow.python.ops import gen_math_ops\n"
   ]
  },
  {
   "cell_type": "markdown",
   "metadata": {},
   "source": [
    "### Working with Tensor Flow"
   ]
  },
  {
   "cell_type": "code",
   "execution_count": 41,
   "metadata": {},
   "outputs": [],
   "source": [
    "###################\n",
    "#### Functions ####\n",
    "###################\n",
    "\n",
    "def proper2geo_fnt(xyz,distCenterLMC,alphaCenterLMC,deltaCenterLMC,\n",
    "                      posAngleLMC,inclAngleLMC):\n",
    " \n",
    "# Transform samples of location coordinates in the proper frame of the LMC\n",
    "# to the rectangular heliocentric frame\n",
    "#\n",
    "# References:\n",
    "#  Van der Marel & Cioni (2001)\n",
    "#  Weinberg and Nikolaev (2001)\n",
    "# \n",
    "# Parameters: \n",
    "# -xyz                 A tensor of shape=(N, 3) containing N samples in the\n",
    "#                     proper LMC frame \n",
    "# -N                   No of samples\n",
    "# -distCenterLMC       Distance to the LMC centre (kpc)\n",
    "# -alphaCenterLMC      RA of the LMC centre (rad)\n",
    "# -deltaCenterLMC      Dec of the LMC centre (rad)\n",
    "# -posAngleLMC         Position angle of the LON measured w.r.t. the North (rad)\n",
    "# -inclAngleLMC        Inclination angle (rad)\n",
    "#\n",
    "# Return:             A tensor of shape=(N, 3) containing N samples of rectangular \n",
    "#                    coordinates in the heliocentric frame                 \n",
    " \n",
    "\n",
    "\n",
    "    # Affine transformation from local LMC frame to heliocentric frame \n",
    "\n",
    "    s11 = tf.sin(alphaCenterLMC)\n",
    "    s12 = -tf.cos(alphaCenterLMC) * tf.sin(deltaCenterLMC)\n",
    "    s13 = -tf.cos(alphaCenterLMC) * tf.cos(deltaCenterLMC)\n",
    "    s21 = -tf.cos(alphaCenterLMC)\n",
    "    s22 = -tf.sin(alphaCenterLMC) * tf.sin(deltaCenterLMC)\n",
    "    s23 = -tf.sin(alphaCenterLMC) * tf.cos(deltaCenterLMC)\n",
    "    s31 = tf.zeros([])\n",
    "    s32 = tf.cos(deltaCenterLMC)\n",
    "    s33 = -tf.sin(deltaCenterLMC)\n",
    " \n",
    "    matrix = tf.stack((s11,s12,s13,s21,s22,s23,s31,s32,s33),\n",
    "                      axis=-1)  # pyformat: disable\n",
    "    output_shape = tf.concat((\n",
    "        tf.shape(input=tf.zeros(4))[:-1], (3, 3)), axis=-1)\n",
    "\n",
    "    OXYZ2 = tf.reshape(matrix, shape=output_shape)\n",
    "\n",
    "    \n",
    "    LMC_center = tf.stack(\n",
    "        [\n",
    "            distCenterLMC *\n",
    "            tf.cos(deltaCenterLMC) *\n",
    "            tf.cos(alphaCenterLMC),   \n",
    "            distCenterLMC *\n",
    "            tf.cos(deltaCenterLMC) *\n",
    "            tf.sin(alphaCenterLMC),\n",
    "            distCenterLMC *\n",
    "            tf.sin(deltaCenterLMC)\n",
    "        ], axis=0)\n",
    "\n",
    "\n",
    "    S1_ = tf.linalg.LinearOperatorFullMatrix(OXYZ2)\n",
    "    S1_ALO = tfb.AffineLinearOperator(shift=LMC_center, scale=S1_)\n",
    "\n",
    "     \n",
    "    # Linear transformation from proper to local LMC frame \n",
    " \n",
    "    \n",
    "    s11 = tf.cos(posAngleLMC)  \n",
    "    s12 = -tf.sin(posAngleLMC) * tf.cos(inclAngleLMC)  \n",
    "    s13 = -tf.sin(posAngleLMC) * tf.sin(inclAngleLMC)\n",
    "    s21 = tf.sin(posAngleLMC)  \n",
    "    s22 = tf.cos(posAngleLMC) * tf.cos(inclAngleLMC)  \n",
    "    s23 = tf.cos(posAngleLMC) * tf.sin(inclAngleLMC)  \n",
    "    s31 = tf.zeros([])  \n",
    "    s32 = -tf.sin(inclAngleLMC)  \n",
    "    s33 = tf.cos(inclAngleLMC)  \n",
    "     \n",
    " \n",
    "    matrix2 = tf.stack((s11,s12,s13,s21,s22,s23,s31,s32,s33),\n",
    "                      axis=-1)  # pyformat: disable\n",
    "    output_shape = tf.concat((\n",
    "        tf.shape(input=tf.zeros(4))[:-1], (3, 3)), axis=-1)\n",
    "\n",
    "    OXYZ5 = tf.reshape(matrix2, shape=output_shape)\n",
    "    \n",
    "    #print(\"OXYZ5.shape\",OXYZ5.shape)\n",
    "\n",
    "    S2_ = tf.linalg.LinearOperatorFullMatrix(OXYZ5)\n",
    "    #print(\"Shape_S2\",S2_.shape)\n",
    "    S2_ALO = tfb.AffineLinearOperator(shift=tf.zeros(3), scale=S2_)\n",
    "    #print(\"Shape_S2\",S2_.shape)\n",
    "\n",
    "    chain = tfb.Chain([  S1_ALO,  S2_ALO])\n",
    "    #print(\"chain.shape\",chain.shape)\n",
    "    output0=chain._forward( xyz, axis=1) \n",
    "    #print(\"output0=\",output0.shape)\n",
    "    return output0\n",
    "\n",
    " \n",
    "\n",
    "def disk_fnt(n, scaleHeight, scaleLength, psiAngle, ellFactor):\n",
    " \n",
    "# Generate samples of location coordinates of the LMC disk in a proper  \n",
    "# reference frame and transform them to a proper LMC reference frame \n",
    "# References:\n",
    "#  Mancini et al. (2004)\n",
    "#\n",
    "# Parameters: \n",
    "# -N                   No of samples\n",
    "# -scaleHeight         Disk scale height (kpc)\n",
    "# -scaleLength         Disk scale length (kpc)\n",
    "# -ellFactor           Disk ellipticity factor. For a circular disk set = 1                                                  \n",
    "# -psiAngle            Disk minor axis position angle measured w.r.t. LON (rad)\n",
    "#                     For a circular disk set = 0\n",
    "#\n",
    "# Return:             A tensor of shape=(n, 3) containing N samples of the   \n",
    "#                    star locations in a local LMC reference frame                \n",
    " \n",
    "\n",
    "    s11 =  tf.cos(psiAngle) \n",
    "    s12 = -tf.sin(psiAngle)   \n",
    "    s13 = tf.zeros([])\n",
    "    s21 =  tf.sin(psiAngle)\n",
    "    s22 =  tf.cos(psiAngle)  \n",
    "    s23 = tf.zeros([])\n",
    "    s31 = tf.zeros([])  \n",
    "    s32 = tf.zeros([])  \n",
    "    s33 = tf.ones([])\n",
    " \n",
    "    matrix = tf.stack((s11,s12,s13,s21,s22,s23,s31,s32,s33),\n",
    "                      axis=-1)  # pyformat: disable\n",
    "    #print(\"matrix\",matrix)\n",
    "    output_shape = tf.concat((\n",
    "        tf.shape(input=tf.zeros(4))[:-1], (3, 3)), axis=-1)\n",
    "\n",
    "    OXYZ6 = tf.reshape(matrix, shape=output_shape)\n",
    "    \n",
    "    #print(OXYZ6.shape)\n",
    "\n",
    "    S3_ = tf.linalg.LinearOperatorFullMatrix(OXYZ6)\n",
    "    S3_ALO = tfb.AffineLinearOperator(shift=tf.zeros(3), scale=S3_)\n",
    "    \n",
    "    r = tfd.Gamma(concentration=2, rate=1./scaleLength).sample(n )\n",
    "    theta = tfd.Uniform(low=0., high=2.*np.pi).sample(n )\n",
    "\n",
    "    x = ellFactor * r * tf.cos(theta)\n",
    "    y = r * tf.sin(theta)\n",
    "\n",
    "    z = tfd.Laplace(loc=0., scale=scaleHeight).sample(n )\n",
    "\n",
    "    chain = tfb.Chain([  S3_ALO ])\n",
    "    \n",
    "    output1= chain._forward(tf.stack([x, y, z], axis=1))\n",
    "    #print(\"Shape\",output1.shape)\n",
    "    return output1\n",
    "\n",
    "def geo2plx_fnt( x  ):\n",
    "# Transform rectangular heliocentric coordinates to (ra,dec,parallax) coordinates\n",
    "\n",
    "        x0 = x[..., 0]\n",
    "        x1 = x[..., 1]\n",
    "        x2 = x[..., 2]\n",
    "        y0 = array_ops.where(\n",
    "                gen_math_ops.greater(x1, 0.0),\n",
    "                math_ops.scalar_mul(180.0/np.pi, math_ops.atan2(x1, x0)),\n",
    "                math_ops.scalar_mul(180.0/np.pi, math_ops.atan2(x1, x0)) + 360.0)\n",
    "        #print(y0)\n",
    "        y2 = 1./math_ops.sqrt(\n",
    "                math_ops.reduce_sum(math_ops.multiply(x, x), axis=1))\n",
    "\n",
    "        # y2 = tf.linalg.norm(x, axis=1)\n",
    "        y1 = math_ops.scalar_mul(180.0/np.pi, math_ops.asin(x2/(1./y2)))\n",
    "        #print(y1)\n",
    "        output2=array_ops.stack([y0, y1, y2], axis=1)\n",
    "        #print(\"output2\",output2.shape)\n",
    "        return output2\n",
    "\n",
    " \n",
    "\n",
    "def measurements_fnt(x , raErrorMean, raErrorVar , decErrorMean, \n",
    "                    decErrorVar, plxErrorMean, plxErrorVar ): \n",
    "    \n",
    "    n =  x.numpy().shape[0]\n",
    "\n",
    "    raErrorShape  = (raErrorMean ** 2)/raErrorVar\n",
    "    raErrorScale  = raErrorVar/raErrorMean \n",
    "\n",
    "    decErrorShape  = (decErrorMean ** 2)/decErrorVar\n",
    "    decErrorScale  = decErrorVar/decErrorMean \n",
    "\n",
    "    plxErrorShape  = (plxErrorMean ** 2)/plxErrorVar\n",
    "    plxErrorScale  = plxErrorVar/plxErrorMean \n",
    "\n",
    "    ra_error = tfd.Gamma(concentration=raErrorShape, \n",
    "                         rate=1./raErrorScale).sample(n )\n",
    "    \n",
    "    dec_error = tfd.Gamma(concentration=decErrorShape, \n",
    "                          rate=1./decErrorScale).sample(n )\n",
    "    \n",
    "    plx_error = tfd.Gamma(concentration=plxErrorShape, \n",
    "                          rate=1./plxErrorScale).sample(n )\n",
    "\n",
    "    x0 = x[..., 0]\n",
    "    x1 = x[..., 1]\n",
    "    x2 = x[..., 2]\n",
    "\n",
    "    uncs = array_ops.stack([ra_error, dec_error, plx_error], axis=1)\n",
    "\n",
    "    \n",
    "\n",
    "    obs =  tfd.MultivariateNormalDiag(loc=x,\n",
    "                                      scale_diag=uncs).sample(1) \n",
    "\n",
    "    return obs, uncs \n",
    "     \n",
    "\n",
    " \n",
    "\n"
   ]
  },
  {
   "cell_type": "code",
   "execution_count": 47,
   "metadata": {},
   "outputs": [
    {
     "data": {
      "image/png": "[encoded data removed]",
      "text/plain": [
       "<Figure size 720x360 with 2 Axes>"
      ]
     },
     "metadata": {
      "needs_background": "light"
     },
     "output_type": "display_data"
    },
    {
     "data": {
      "image/png": "[encoded data removed]",
      "text/plain": [
       "<Figure size 432x288 with 1 Axes>"
      ]
     },
     "metadata": {
      "needs_background": "light"
     },
     "output_type": "display_data"
    },
    {
     "data": {
      "image/png": "[encoded data removed]",
      "text/plain": [
       "<Figure size 432x288 with 1 Axes>"
      ]
     },
     "metadata": {
      "needs_background": "light"
     },
     "output_type": "display_data"
    },
    {
     "data": {
      "image/png": "[encoded data removed]",
      "text/plain": [
       "<Figure size 432x288 with 1 Axes>"
      ]
     },
     "metadata": {
      "needs_background": "light"
     },
     "output_type": "display_data"
    }
   ],
   "source": [
    "####################################\n",
    "### Generate synthetic catalogue ###\n",
    "####################################\n",
    "\n",
    "# LMC fixed hyperparameters\n",
    "dist_centre_lmc=50. \n",
    "alpha_centre_lmc=80.8939*np.pi/180. \n",
    "delta_centre_lmc=-69.7561*np.pi/180.\n",
    "pos_angle_lmc=(122.5 + 90.)*np.pi/180.\n",
    "inc_angle_lmc=34.7*np.pi/180. \n",
    "\n",
    "# Disk component fixed hyperparameters\n",
    "disk_scale_height = 0.35\n",
    "disk_scale_length = 1.6\n",
    "pos_angle_disk = 202.7*np.pi/180\n",
    "ell_factor_disk = 0.688 \n",
    "\n",
    "# Uncertainty on measurements roughly estimated from the catalogue\n",
    "ra_error_mean   = 0.1711426\n",
    "ra_error_var = 0.006506719\n",
    "\n",
    "dec_error_mean    =  0.1804739\n",
    "dec_error_var = 0.007289793 \n",
    "\n",
    "plx_error_mean  =  0.1758596\n",
    "plx_error_var = 0.006775405 \n",
    "\n",
    "\n",
    "# Set No of samples we want to generate\n",
    "N = 10000000\n",
    "\n",
    "# Generate disk location coordinates in the LMC proper reference frame\n",
    "xyz_propert = disk_fnt(N, disk_scale_height, disk_scale_length, \n",
    "                     pos_angle_disk - pos_angle_lmc, ell_factor_disk)\n",
    "\n",
    "# Transform from proper to heliocentric frame\n",
    "xyz_geot =  proper2geo_fnt(xyz_propert, dist_centre_lmc, alpha_centre_lmc,\n",
    "                         delta_centre_lmc, pos_angle_lmc, inc_angle_lmc )\n",
    "\n",
    "# Generate (ra,dec,plx) true values\n",
    "\n",
    "cyl_plxt  =   geo2plx_fnt(xyz_geot)\n",
    "\n",
    "# Generate (ra,dec,plx) measurements & uncertainties\n",
    "\n",
    "#measurements_fn(cyl_plx , ra_error_mean, ra_error_var , \n",
    "#                dec_error_mean, dec_error_var,  plx_error_mean, plx_error_var )  \n",
    "\n",
    "\n",
    "\n",
    "\n",
    "simu=np.array(cyl_plxt)\n",
    "\n",
    "ra=simu[:,0]\n",
    "dec=simu[:,1]\n",
    "parallax=simu[:,2]\n",
    "\n",
    "ret=stats.binned_statistic_2d(ra, dec, parallax, statistic='mean', bins=50, range=None, expand_binnumbers=False)\n",
    "\n",
    "meant=ret.statistic\n",
    "\n",
    "xedges=ret.x_edge\n",
    "\n",
    "yedges=ret.y_edge\n",
    "\n",
    "plt.figure(figsize=(10,5))\n",
    "im=plt.imshow(meant, aspect='auto',interpolation=\"nearest\", origin=\"upper\",cmap='seismic')\n",
    "ax = plt.gca()\n",
    "divider = make_axes_locatable(ax)\n",
    "cax = divider.append_axes(\"right\", size=\"5%\", pad=0.05)\n",
    "plt.colorbar(im, cax=cax)\n",
    "plt.show()\n",
    "\n",
    "plt.hist(ra,bins=100)\n",
    "plt.show()\n",
    "plt.hist(dec,bins=100)\n",
    "plt.show()\n",
    "plt.hist(parallax,bins=100)\n",
    "plt.show()"
   ]
  },
  {
   "cell_type": "markdown",
   "metadata": {},
   "source": [
    "## Working wiht numpy"
   ]
  },
  {
   "cell_type": "code",
   "execution_count": 43,
   "metadata": {
    "colab": {},
    "colab_type": "code",
    "id": "G1t8rVXFXy_B"
   },
   "outputs": [],
   "source": [
    "###################\n",
    "#### Functions ####\n",
    "###################\n",
    "\n",
    "def proper2geo_fn(xyz,distCenterLMC,alphaCenterLMC,deltaCenterLMC,\n",
    "                      posAngleLMC,inclAngleLMC):\n",
    " \n",
    "# Transform samples of location coordinates in the proper frame of the LMC\n",
    "# to the rectangular heliocentric frame\n",
    "#\n",
    "# References:\n",
    "#  Van der Marel & Cioni (2001)\n",
    "#  Weinberg and Nikolaev (2001)\n",
    "# \n",
    "# Parameters: \n",
    "# -xyz                 A tensor of shape=(N, 3) containing N samples in the\n",
    "#                     proper LMC frame \n",
    "# -N                   No of samples\n",
    "# -distCenterLMC       Distance to the LMC centre (kpc)\n",
    "# -alphaCenterLMC      RA of the LMC centre (rad)\n",
    "# -deltaCenterLMC      Dec of the LMC centre (rad)\n",
    "# -posAngleLMC         Position angle of the LON measured w.r.t. the North (rad)\n",
    "# -inclAngleLMC        Inclination angle (rad)\n",
    "#\n",
    "# Return:             A tensor of shape=(N, 3) containing N samples of rectangular \n",
    "#                    coordinates in the heliocentric frame                 \n",
    " \n",
    "\n",
    "\n",
    "    # Affine transformation from local LMC frame to heliocentric frame \n",
    "\n",
    "    s11 = np.sin(alphaCenterLMC)\n",
    "    s12 = -np.cos(alphaCenterLMC) * np.sin(deltaCenterLMC)\n",
    "    s13 = -np.cos(alphaCenterLMC) * np.cos(deltaCenterLMC)\n",
    "    s21 = -np.cos(alphaCenterLMC)\n",
    "    s22 = -np.sin(alphaCenterLMC) * np.sin(deltaCenterLMC)\n",
    "    s23 = -np.sin(alphaCenterLMC) * np.cos(deltaCenterLMC)\n",
    "    s31 = np.zeros([])\n",
    "    s32 = np.cos(deltaCenterLMC)\n",
    "    s33 = -np.sin(deltaCenterLMC)\n",
    " \n",
    "    matrix = np.stack((s11,s12,s13,s21,s22,s23,s31,s32,s33),\n",
    "                      axis=-1)  # pyformat: disable\n",
    "    output_shape = np.concatenate((\n",
    "        np.shape(np.zeros(4))[:-1], (3, 3)), axis=-1)\n",
    "\n",
    "    OXYZ2 = np.reshape(matrix, output_shape.astype(int))\n",
    "\n",
    "    \n",
    "    LMC_center = np.stack(\n",
    "        [\n",
    "            distCenterLMC *\n",
    "            np.cos(deltaCenterLMC) *\n",
    "            np.cos(alphaCenterLMC),   \n",
    "            distCenterLMC *\n",
    "            np.cos(deltaCenterLMC) *\n",
    "            np.sin(alphaCenterLMC),\n",
    "            distCenterLMC *\n",
    "            np.sin(deltaCenterLMC)\n",
    "        ], axis=0)\n",
    "\n",
    "    #print(\"LMC_center\",LMC_center)\n",
    "     \n",
    "    # Linear transformation from proper to local LMC frame \n",
    " \n",
    "    \n",
    "    s11 = np.cos(posAngleLMC)  \n",
    "    s12 = -np.sin(posAngleLMC) * np.cos(inclAngleLMC)  \n",
    "    s13 = -np.sin(posAngleLMC) * np.sin(inclAngleLMC)\n",
    "    s21 = np.sin(posAngleLMC)  \n",
    "    s22 = np.cos(posAngleLMC) * np.cos(inclAngleLMC)  \n",
    "    s23 = np.cos(posAngleLMC) * np.sin(inclAngleLMC)  \n",
    "    s31 = np.zeros([])  \n",
    "    s32 = -np.sin(inclAngleLMC)  \n",
    "    s33 = np.cos(inclAngleLMC)  \n",
    "     \n",
    " \n",
    "    matrix2 = np.stack((s11,s12,s13,s21,s22,s23,s31,s32,s33),\n",
    "                      axis=-1)  # pyformat: disable\n",
    "    output_shape = np.concatenate((\n",
    "        np.shape(np.zeros(4))[:-1], (3, 3)), axis=-1)\n",
    "\n",
    "    OXYZ5 = np.reshape(matrix2, output_shape.astype(int))\n",
    " \n",
    "    mat1=xyz.dot(OXYZ5)\n",
    "    #mat1=OXYZ5.dot(xyz.T).T\n",
    "    #print(\"mat1\",mat1.shape)\n",
    "    #print(OXYZ2.shape)\n",
    "    output0n=mat1.dot(OXYZ2) + np.array(LMC_center)\n",
    "    #output0n=OXYZ2.dot(mat1.T).T + np.array(LMC_center)\n",
    "    #print(\"output0n\",output0n)\n",
    "    #mat1 = np.matmul(OXYZ5,xyz) + np.zeros(3)\n",
    "    #mat2 = np.matmul(OXYZ2,mat1) + LMC_center\n",
    "    \n",
    "    return output0n\n",
    "\n",
    " \n",
    "\n",
    "def disk_fn(n, scaleHeight, scaleLength, psiAngle, ellFactor):\n",
    " \n",
    "# Generate samples of location coordinates of the LMC disk in a proper  \n",
    "# reference frame and transform them to a proper LMC reference frame \n",
    "# References:\n",
    "#  Mancini et al. (2004)\n",
    "#\n",
    "# Parameters: \n",
    "# -N                   No of samples\n",
    "# -scaleHeight         Disk scale height (kpc)\n",
    "# -scaleLength         Disk scale length (kpc)\n",
    "# -ellFactor           Disk ellipticity factor. For a circular disk set = 1                                                  \n",
    "# -psiAngle            Disk minor axis position angle measured w.r.t. LON (rad)\n",
    "#                     For a circular disk set = 0\n",
    "#\n",
    "# Return:             A tensor of shape=(n, 3) containing N samples of the   \n",
    "#                    star locations in a local LMC reference frame                \n",
    " \n",
    "\n",
    "    s11 =  np.cos(psiAngle) \n",
    "    s12 = -np.sin(psiAngle)   \n",
    "    s13 = np.zeros([])\n",
    "    s21 =  np.sin(psiAngle)\n",
    "    s22 =  np.cos(psiAngle)  \n",
    "    s23 = np.zeros([])\n",
    "    s31 = np.zeros([])  \n",
    "    s32 = np.zeros([])  \n",
    "    s33 = np.ones([])\n",
    " \n",
    "    matrix = np.stack((s11,s12,s13,s21,s22,s23,s31,s32,s33),\n",
    "                      axis=-1)  # pyformat: disable\n",
    "    output_shape = np.concatenate((\n",
    "        np.shape(np.zeros(4))[:-1], (3, 3)), axis=-1)\n",
    "\n",
    "    OXYZ6 = np.reshape(matrix, output_shape.astype(int))\n",
    "\n",
    "    #S3_ = tf.linalg.LinearOperatorFullMatrix(OXYZ6)\n",
    "    #S3_ALO = tfb.AffineLinearOperator(shift=tf.zeros(3), scale=S3_)\n",
    "    \n",
    "    #r = tfd.Gamma(concentration=2, rate=1./scaleLength).sample(n )\n",
    "    r = np.random.gamma(shape = 2,scale = scaleLength, size = n)\n",
    "    theta = np.random.uniform(low=0., high=2.*np.pi, size = n)\n",
    "\n",
    "    x = ellFactor * r * np.cos(theta)\n",
    "    y = r * np.sin(theta)\n",
    "\n",
    "    z = np.random.laplace(loc=0., scale=scaleHeight, size=n )\n",
    "\n",
    "    #chain = tfb.Chain([  S3_ALO ])\n",
    "    \n",
    "    output1n=np.stack([x,y,z],axis=1).dot(OXYZ6)\n",
    "    #output1n=OXYZ6.dot(np.stack([x,y,z],axis=1).T).T # NO entenc perquè pero sembla que així queda ben encarat\n",
    "    print(\"mat11\",output1n.shape)\n",
    "    #mat1 = np.matmul(OXYZ6,np.stack([x,y,z],axis=1)) + np.zeros(3)\n",
    "\n",
    "    return output1n\n",
    "\n",
    "def geo2plx_fn( x  ):\n",
    "# Transform rectangular heliocentric coordinates to (ra,dec,parallax) coordinates\n",
    "\n",
    "        x0 = x[..., 0]\n",
    "        x1 = x[..., 1]\n",
    "        x2 = x[..., 2]\n",
    "        y0 = np.array([])\n",
    "        #for element in range(len(x1)):\n",
    "        #    if x1[element] > 0.:\n",
    "        #        y0 = np.append(y0,np.dot(180./np.pi,np.arctan2(x1[element],x0[element])))\n",
    "        #    else:\n",
    "        #        y0 = np.append(y0,np.dot(180./np.pi,np.arctan2(x1[element],x0[element]))+360.)\n",
    "                \n",
    "                \n",
    "        #y0 = np.where(x1>0,np.dot(180.0/np.pi,np.arctan2(x1,x0)),np.dot(180.0/np.pi,np.arctan2(x1,x0))+360.)\n",
    "        y0 = np.where(x1>0,180.0/np.pi*np.arctan2(x1,x0),180.0/np.pi*np.arctan2(x1,x0)+360.)\n",
    "        \n",
    "        #print(y0)     \n",
    "        y2 = 1./np.sqrt(np.sum(np.multiply(x, x), axis=1))\n",
    "        #print(y2)\n",
    "        # y2 = tf.linalg.norm(x, axis=1)\n",
    "        y1 = np.dot(180.0/np.pi, np.arcsin(x2/(1./y2)))\n",
    "        #print(y1)\n",
    "        output2n=np.stack([y0, y1, y2], axis=1)\n",
    "        return output2n\n",
    "\n",
    " \n",
    "\n",
    "def measurements_fn(x , raErrorMean, raErrorVar , decErrorMean, \n",
    "                    decErrorVar, plxErrorMean, plxErrorVar ): \n",
    "    \n",
    "    n =  x.shape[0]\n",
    "\n",
    "    raErrorShape  = (raErrorMean ** 2)/raErrorVar\n",
    "    raErrorScale  = raErrorVar/raErrorMean \n",
    "\n",
    "    decErrorShape  = (decErrorMean ** 2)/decErrorVar\n",
    "    decErrorScale  = decErrorVar/decErrorMean \n",
    "\n",
    "    plxErrorShape  = (plxErrorMean ** 2)/plxErrorVar\n",
    "    plxErrorScale  = plxErrorVar/plxErrorMean \n",
    "\n",
    "    ra_error = np.random.gamma(shape=raErrorShape, \n",
    "                         scale=raErrorScale,size=n )\n",
    "    \n",
    "    dec_error = np.random.gamma(shape=decErrorShape, \n",
    "                          scale=decErrorScale,size=n )\n",
    "    \n",
    "    plx_error = np.random.gamma(shape=plxErrorShape, \n",
    "                          scale=plxErrorScale,size=n )\n",
    "\n",
    "    x0 = x[..., 0]\n",
    "    x1 = x[..., 1]\n",
    "    x2 = x[..., 2]\n",
    "\n",
    "    uncs = np.stack([ra_error, dec_error, plx_error], axis=1)\n",
    "\n",
    "    \n",
    "\n",
    "    obs =  np.random.multivariate_normal(mean=x,\n",
    "                                      cov=uncs,size=1) \n",
    "\n",
    "    return obs, uncs \n",
    "\n",
    "     \n",
    "\n",
    " \n",
    "\n"
   ]
  },
  {
   "cell_type": "markdown",
   "metadata": {},
   "source": [
    "# Generación de un primer catalogo sintetico sin errores"
   ]
  },
  {
   "cell_type": "code",
   "execution_count": 44,
   "metadata": {},
   "outputs": [
    {
     "name": "stdout",
     "output_type": "stream",
     "text": [
      "mat11 (10000000, 3)\n"
     ]
    }
   ],
   "source": [
    "####################################\n",
    "### Generate synthetic catalogue ###\n",
    "####################################\n",
    "\n",
    "# LMC fixed hyperparameters\n",
    "dist_centre_lmc=50. \n",
    "alpha_centre_lmc=80.8939*np.pi/180. \n",
    "delta_centre_lmc=-69.7561*np.pi/180.\n",
    "pos_angle_lmc=(122.5 + 90.)*np.pi/180.\n",
    "inc_angle_lmc=34.7*np.pi/180. \n",
    "\n",
    "# Disk component fixed hyperparameters\n",
    "disk_scale_height = 0.35\n",
    "disk_scale_length = 1.6\n",
    "pos_angle_disk = 202.7*np.pi/180\n",
    "ell_factor_disk = 0.688 \n",
    "\n",
    "# Uncertainty on measurements roughly estimated from the catalogue\n",
    "ra_error_mean   = 0.1711426\n",
    "ra_error_var = 0.006506719\n",
    "\n",
    "dec_error_mean    =  0.1804739\n",
    "dec_error_var = 0.007289793 \n",
    "\n",
    "plx_error_mean  =  0.1758596\n",
    "plx_error_var = 0.006775405 \n",
    "\n",
    "\n",
    "# Set No of samples we want to generate\n",
    "N = 10000000\n",
    "\n",
    "# Generate disk location coordinates in the LMC proper reference frame\n",
    "xyz_propern = disk_fn(N, disk_scale_height, disk_scale_length, \n",
    "                     pos_angle_disk - pos_angle_lmc, ell_factor_disk)\n",
    "\n",
    "# Transform from proper to heliocentric frame\n",
    "xyz_geon =  proper2geo_fn(xyz_propern, dist_centre_lmc, alpha_centre_lmc,\n",
    "                         delta_centre_lmc, pos_angle_lmc, inc_angle_lmc )\n",
    "\n",
    "# Generate (ra,dec,plx) true values\n",
    "\n",
    "cyl_plxn  =   geo2plx_fn(xyz_geon)\n",
    "\n",
    "# Generate (ra,dec,plx) measurements & uncertainties\n",
    "\n",
    "#measurements_fn(cyl_plx , ra_error_mean, ra_error_var , \n",
    "#                dec_error_mean, dec_error_var,  plx_error_mean, plx_error_var )  "
   ]
  },
  {
   "cell_type": "code",
   "execution_count": null,
   "metadata": {},
   "outputs": [],
   "source": []
  },
  {
   "cell_type": "code",
   "execution_count": 45,
   "metadata": {},
   "outputs": [],
   "source": [
    "simu1=np.array(cyl_plxn)"
   ]
  },
  {
   "cell_type": "code",
   "execution_count": 48,
   "metadata": {},
   "outputs": [
    {
     "name": "stdout",
     "output_type": "stream",
     "text": [
      "[80.48316849 83.50804568 76.9848338  ... 80.05363544 82.84628103\n",
      " 80.06226093] [-70.29497048 -72.47946003 -70.76662171 ... -69.58665419 -69.04252305\n",
      " -69.44796405]\n"
     ]
    },
    {
     "data": {
      "image/png": "[encoded data removed]",
      "text/plain": [
       "<Figure size 720x360 with 2 Axes>"
      ]
     },
     "metadata": {
      "needs_background": "light"
     },
     "output_type": "display_data"
    },
    {
     "data": {
      "image/png": "[encoded data removed]",
      "text/plain": [
       "<Figure size 432x288 with 1 Axes>"
      ]
     },
     "metadata": {
      "needs_background": "light"
     },
     "output_type": "display_data"
    },
    {
     "data": {
      "image/png": "[encoded data removed]",
      "text/plain": [
       "<Figure size 432x288 with 1 Axes>"
      ]
     },
     "metadata": {
      "needs_background": "light"
     },
     "output_type": "display_data"
    },
    {
     "data": {
      "image/png": "[encoded data removed]",
      "text/plain": [
       "<Figure size 432x288 with 1 Axes>"
      ]
     },
     "metadata": {
      "needs_background": "light"
     },
     "output_type": "display_data"
    }
   ],
   "source": [
    "ra=simu1[:,0]\n",
    "dec=simu1[:,1]\n",
    "parallax=simu1[:,2]\n",
    "print(ra,dec)\n",
    "\n",
    "ret=stats.binned_statistic_2d(ra, dec, parallax, statistic='mean', bins=50, range=None, expand_binnumbers=False)\n",
    "\n",
    "mean1=ret.statistic\n",
    "\n",
    "xedges=ret.x_edge\n",
    "\n",
    "yedges=ret.y_edge\n",
    "\n",
    "plt.figure(figsize=(10,5))\n",
    "im=plt.imshow(mean1, aspect='auto',interpolation=\"nearest\", origin=\"upper\",cmap='seismic')\n",
    "ax = plt.gca()\n",
    "divider = make_axes_locatable(ax)\n",
    "cax = divider.append_axes(\"right\", size=\"5%\", pad=0.05)\n",
    "plt.colorbar(im, cax=cax)\n",
    "plt.show()\n",
    "\n",
    "plt.hist(ra,bins=100)\n",
    "plt.show()\n",
    "plt.hist(dec,bins=100)\n",
    "plt.show()\n",
    "plt.hist(parallax,bins=100)\n",
    "plt.show()"
   ]
  },
  {
   "cell_type": "code",
   "execution_count": 49,
   "metadata": {},
   "outputs": [
    {
     "data": {
      "image/png": "[encoded data removed]",
      "text/plain": [
       "<Figure size 720x360 with 2 Axes>"
      ]
     },
     "metadata": {
      "needs_background": "light"
     },
     "output_type": "display_data"
    }
   ],
   "source": [
    "plt.figure(figsize=(10,5))\n",
    "im=plt.imshow(mean1-meant, aspect='auto',interpolation=\"nearest\", origin=\"upper\",cmap='seismic',vmin=-0.010,vmax=+0.010)\n",
    "ax = plt.gca()\n",
    "divider = make_axes_locatable(ax)\n",
    "cax = divider.append_axes(\"right\", size=\"5%\", pad=0.05)\n",
    "plt.colorbar(im, cax=cax)\n",
    "plt.show()"
   ]
  },
  {
   "cell_type": "markdown",
   "metadata": {},
   "source": [
    "### Falta trabajar mejor las matrices para solucionar el problema con el plot anterior"
   ]
  },
  {
   "cell_type": "markdown",
   "metadata": {},
   "source": [
    "# Inferencia usando ABC\n",
    "\n",
    "\n",
    "## Toy Example\n",
    "\n",
    "\n",
    "We need to provide:\n",
    "\n",
    "- a dataset\n",
    "- a forwards simulating model for the data\n",
    "- a method defining the distance metric\n",
    "\n",
    "### Test 0\n",
    "\n",
    "En este primer test usamos como \"datos observacionales\" la simulación que se ve en el plot de arriba. Con los parametros que venian impuestos por defecto y dist_centre_lmc=50\n",
    "\n",
    "El test es muy sencillo. Simplemente he dejado como único parámetro libre el dist_centre_lmc y he mirado si lo recuperabamos. \n",
    "\n",
    "No ha habido sorpresas. Y hemos recuperado dist_centre_lmc=51.4"
   ]
  },
  {
   "cell_type": "markdown",
   "metadata": {},
   "source": [
    "### astroABC for python\n",
    "\n",
    "### Key features\n",
    "\n",
    "-    Parallel sampling using MPI or multiprocessing\n",
    "-    MPI communicator can be split so both the sampler, and simulation launched by each particle, can run in parallel\n",
    "\n",
    "-    A Sequential Monte Carlo sampler (see e.g. Toni et al. 2009, Beaumont et al. 2009, Sisson & Fan 2010)\n",
    "\n",
    "-    A method for iterative adapting tolerance levels using the qth quantile of the distance for t iterations (Turner & Van Zandt (2012))\n",
    "\n",
    "-    Scikit-learn covariance matrix estimation using Ledoit-Wolf shrinkage for singular matrices\n",
    "\n",
    "-    A module for specifying particle covariance using method proposed by Turner & Van Zandt (2012), optimal covariance matrix for a multivariate normal perturbation kernel, local covariance estimate using scikit-learn KDTree method for nearest neighbours (Filippi et al 2013) and a weighted covariance (Beaumont et al 2009)\n",
    "\n",
    "-    Restart files output frequently so an interrupted run can be resumed at any iteration\n",
    "-    Output and restart files are backed up every iteration\n",
    "-    User defined distance metric and simulation methods\n",
    "-    A class for specifying heterogeneous parameter priors\n",
    "-    Methods for drawing from any non-standard prior PDF e.g using Planck/WMAP chains\n",
    "-    A module for specifying a constant, linear, log or exponential tolerance level\n",
    "-    Well-documented examples and sample scripts\n"
   ]
  },
  {
   "cell_type": "code",
   "execution_count": 8,
   "metadata": {},
   "outputs": [],
   "source": [
    "import astroabc"
   ]
  },
  {
   "cell_type": "markdown",
   "metadata": {},
   "source": [
    "# We define the function to perform the simulations"
   ]
  },
  {
   "cell_type": "raw",
   "metadata": {},
   "source": [
    "# Función de la simulación adaptada para funcionar para ABC, de momento sin errores\n",
    "\n",
    "def simu_LMC(param,pool=None):\n",
    "    # LMC fixed hyperparameters\n",
    "    \n",
    "    dist_centre_lmc=param[0]\n",
    "    #print(dist_centre_lmc)\n",
    "    alpha_centre_lmc=80.8939*np.pi/180. \n",
    "    delta_centre_lmc=-69.7561*np.pi/180.\n",
    "    pos_angle_lmc=(122.5 + 90.)*np.pi/180.\n",
    "    inc_angle_lmc=34.7*np.pi/180. \n",
    "\n",
    "    # Disk component fixed hyperparameters\n",
    "    disk_scale_height = 0.35\n",
    "    disk_scale_length = 1.6\n",
    "    pos_angle_disk = 202.7*np.pi/180\n",
    "    ell_factor_disk = 0.688 \n",
    "    # Set No of samples we want to generate\n",
    "    N = 1000000   \n",
    "    if dist_centre_lmc>0:\n",
    "    # Generate disk location coordinates in the LMC proper reference frame\n",
    "        xyz_proper = disk_fn(N, disk_scale_height, disk_scale_length, \n",
    "                         pos_angle_disk - pos_angle_lmc, ell_factor_disk)\n",
    "\n",
    "    # Transform from proper to heliocentric frame\n",
    "        xyz_geo =  proper2geo_fn(xyz_proper, dist_centre_lmc, alpha_centre_lmc,\n",
    "                             delta_centre_lmc, pos_angle_lmc, inc_angle_lmc )\n",
    "\n",
    "        # Generate (ra,dec,plx) true values\n",
    "\n",
    "        cyl_plx  =   geo2plx_fn(xyz_geo)\n",
    "\n",
    "        result=np.array(cyl_plx)\n",
    "        ra=result[:,0]\n",
    "        dec=result[:,1]\n",
    "        parallax=result[:,2]\n",
    "        ret=stats.binned_statistic_2d(ra, dec, parallax, statistic='mean', bins=10, range=None, expand_binnumbers=False)\n",
    "        meanresult=ret.statistic\n",
    "        sym=np.reshape(meanresult,100)\n",
    "    else:\n",
    "        sym=np.array([0])\n",
    "    return sym\n",
    "    \n",
    "    \n",
    "    \n",
    "    "
   ]
  },
  {
   "cell_type": "markdown",
   "metadata": {},
   "source": [
    "# We define the distance metric that we want to use"
   ]
  },
  {
   "cell_type": "code",
   "execution_count": 9,
   "metadata": {},
   "outputs": [],
   "source": [
    "# Métrica de distáncia sencilla. Se puede cambiar cuando queramos.\n",
    "\n",
    "def metric_asymetries(observed,simulated): # Function to compute the distance metric using Chi^2\n",
    "    \n",
    "   \n",
    "    if simulated.size==1:\n",
    "        mychisum=np.inf\n",
    "    else:\n",
    "        nanos=np.count_nonzero(np.isnan(simulated)) # Count the number of bins with nans\n",
    "        lens=len(simulated)                      \n",
    "\n",
    "\n",
    "        if nanos>0.99*lens:  # if more than 50% of the bins have nans assign distance=infinity\n",
    "            mychisum=float('Inf')\n",
    "        else:\n",
    "            mychi=np.nansum(((observed-simulated)/sigma)**2) # Sum of all Chi^2 for each bin                  \n",
    "            Nbin=abs(lens-nanos)                                 # Compute the number of bins without nans\n",
    "            mychisum=np.sum(mychi)/Nbin                     # Normalization over the number of bins\n",
    "    #print(mychisum)                       \n",
    "    return mychisum"
   ]
  },
  {
   "cell_type": "code",
   "execution_count": 10,
   "metadata": {},
   "outputs": [],
   "source": [
    "sigmam=np.ones((10,10))\n",
    "sigma=np.reshape(sigmam,100)*0.001"
   ]
  },
  {
   "cell_type": "markdown",
   "metadata": {},
   "source": [
    "Next we need to set some keywords for astroABC. This can be done by creating a dictionary of inputs which are passed to the sampler. Many of these entries have defaults and do not need to be specified explicitly.\n",
    "Only the name of the distance metric method needs to be explicity provided as a keyword.\n",
    "The full set of keywords are given in the doc string of the class. Some examples are\n",
    "\n",
    "- tol_type: which specifies the decreasing tolerance levels. \"exp\",\"lin\", \"log\" and \"const\" are options. (default = 'exp')\n",
    "\n",
    "- verbose: level of verbosity, 0 = no printout to screen, 1 = print to screen  (default = 0)\n",
    "\n",
    "- adapt_t: Boolean True/False for adaptive threshold setting (default = False)\n",
    "\n",
    "- threshold: qth quantile used in adaptive threshold setting (default = 75)\n",
    "\n",
    "- pert_kernel: 1 =component wise pert. with local diag variance; 2 = multivariate pert. based on local covariance\n",
    "\n",
    "- variance_method: 0 =weighted covariance, 1= Filippi, 2 = TVZ, 3= Leodoit_Wolf, 4=k-nn (default = 0)\n",
    "\n",
    "- dfunc:method for calculating the distance metric\n",
    "\n",
    "- from_restart: Boolean True/False\n",
    "\n",
    "- restart: string name of restart file\n",
    "\n",
    "- outfile:string specifying name of output file (default = abc_out.txt)\n",
    "\n",
    "- mpi: Boolean True/False (default = False)\n",
    "\n",
    "- mp:Boolean True/False (default = False)\n",
    "\n",
    "- num_proc:number of threads for mp setting (default = None)\n",
    "\n",
    "Please see the doc strings of the astroABC sampler for details on each of these settings."
   ]
  },
  {
   "cell_type": "code",
   "execution_count": 11,
   "metadata": {},
   "outputs": [],
   "source": [
    "if __name__ == \"__main__\":\n",
    "    prop={'tol_type':\"exp\",\"verbose\":1,'adapt_t':True,'threshold':75,\n",
    "        'pert_kernel':2,'variance_method':0, 'dfunc':metric_asymetries, 'restart':\"restart_abc.txt\", 'outfile':\"abc_mpi.txt\",'mpi':False,'mp':False,'num_proc':4,\n",
    "        'from_restart':False}"
   ]
  },
  {
   "cell_type": "markdown",
   "metadata": {},
   "source": [
    "Next we specify priors for each of the parameters we want to vary in the sampler. This is done by specifying a list of tuples. The zeroth element in each tuple should be a string specifying the prior for this parameter and the first element should be a list of the hyperparameters needed for this prior."
   ]
  },
  {
   "cell_type": "code",
   "execution_count": 12,
   "metadata": {},
   "outputs": [],
   "source": [
    "priors =  [('uniform', [5., 200.])] # Define the priors por the parameters to explore"
   ]
  },
  {
   "cell_type": "code",
   "execution_count": null,
   "metadata": {},
   "outputs": [],
   "source": []
  },
  {
   "cell_type": "markdown",
   "metadata": {},
   "source": [
    "## We fo for the main function"
   ]
  },
  {
   "cell_type": "code",
   "execution_count": 13,
   "metadata": {},
   "outputs": [],
   "source": [
    "def main():\n",
    "    param=[50]\n",
    "    data=simu_LMC(param)\n",
    "    sampler = astroabc.ABC_class(1,10,data,[1000,1],20,priors,**prop)\n",
    "    model_sim=simu_LMC\n",
    "    \n",
    "    \n",
    "    sampler.sample(model_sim)"
   ]
  },
  {
   "cell_type": "markdown",
   "metadata": {},
   "source": [
    "Finally we run the main program"
   ]
  },
  {
   "cell_type": "raw",
   "metadata": {
    "scrolled": false
   },
   "source": [
    "main()"
   ]
  },
  {
   "cell_type": "markdown",
   "metadata": {},
   "source": [
    "## A bit of theory"
   ]
  },
  {
   "cell_type": "markdown",
   "metadata": {},
   "source": [
    "### Introduction to ABC\n",
    "\n",
    "Approximate Bayesian computation\n",
    "(ABC) and so called \"likelihood free\" Markov chain Monte Carlo techniques are popular methods\n",
    "for tackling parameter inference in scenarios where the likelihood is intractable or unknown.\n",
    "These methods are called likelihood free as they are free from any assumption about the form of the likelihood, as ABC aims to simulate samples from the parameter posterior distribution directly.\n",
    "In traditional MCMC approaches the target distribution is the posterior distribution of interest and in practice our estimate of this pdf is approximate due to finite sampling time resulting in a correlated chain which we hope has converged.\n",
    "ABC methods are also approximate in the sense that samples are generated from trial distributions which we hope are close to the real posterior of interest.\n",
    "The [wikipedia]( https://en.wikipedia.org/wiki/Approximate_Bayesian_computation) page on ABC has a good introduction to the topic.\n",
    "\n",
    "The simplest ABC algorithm is rejection sampling. \n",
    "Given a set of parameters, $\\theta$, with associated priors, $\\pi(\\theta)$ and a forward simulated model for the data,\n",
    "\n",
    "$\\pi(D|\\theta)$. \n",
    "\n",
    "We can simulate from the posterior distribution, $P(\\theta|D)$, by first drawing sample parameters\n",
    "\n",
    "$\\theta^* \\sim \\pi(\\theta)$, \n",
    "\n",
    "then simulating a dataset with these parameters \n",
    "\n",
    "$D^* \\sim \\pi(D|\\theta^*)$.\n",
    "\n",
    "In a simple rejection sampling algorithm, we reject $D^*$  unless it matches the true data, $D$.\n",
    "For discrete data this algorithm would not be practical as many simulated samples would be rejected until an exact match is found.\n",
    "In practice we make an approximation and accept simulated datasets which are \"close\" to the true data. This introduces the idea of a distance metric and tolerance level in ABC. We accept proposed parameters $\\theta^*$, if \n",
    "\n",
    "$\\rho(D^* - D) <\\epsilon$\n",
    "\n",
    "where $\\rho$ is the distance metric, which could be e.g. the Euclidean norm $||D^* - D||$,  and $\\epsilon$ is a tolerance threshold. This procedure produces samples from \n",
    "\n",
    "$P(\\theta | \\rho(D^*-D)<\\epsilon)$ \n",
    "\n",
    "which will be a good approximation of the true posterior if $\\epsilon$ is small.\n",
    "\n",
    "The tolerance threshold in ABC controls which of the proposed parameters are accepted given the distance metric. There are two considerations in choosing this threshold. If the tolerance is too high then too many proposed parameters are accepted and the prior distribution dominates the results e.g. if the tolerance level is infinity then we would just recover the prior distribution from the algorithm. If the tolerance level is too low then the sampler is very inefficient with many proposed points being rejected.\n",
    "A compromise is to select a set of decreasing tolerance levels where for the initial iterations in the algorithm we accept points in parameter space which do not represent the data with high accuracy but as the algorithm progresses the tolerance level decreases and our estimate of the true posterior distribution improves.\n",
    "\n",
    "In many cases it may be simpler to work with some lower dimension summary statistic of the data, $S(D)$,\n",
    "rather then the full dataset. In this case the chosen statistic needs to be a so-called *sufficient statistic* in that\n",
    "any information about the parameter of interest which is contained in the data, is also contained in the summary statistic. More formally a statistic $S(D)$ is sufficient for $\\theta$ if the distribution $P(D|S(D))$ does not depend on $\\theta$.\n",
    "This requirement ensures that in summarizing the data we have not thrown away constraining information about $\\theta$.\n"
   ]
  },
  {
   "cell_type": "markdown",
   "metadata": {},
   "source": [
    "### ABC Sequential Monte Carlo\n",
    "\n",
    "Rather than drawing candiates $\\theta^*$, one at a time, we can\n",
    "speed up the ABC algorithm by working with large\n",
    "pools of candidates, called particles, simultaneously. \n",
    "At each stage of the algorithm the particles are perturbed and filtered using the distance metric, and eventually\n",
    "this pool of particles move closer and closer to simulating from the desired posterior distribution.\n",
    "This approach is known as Sequential Monte Carlo or Particle Monte Carlo sampling.\n",
    "\n",
    "Outline of the ABC SMC algorithm:\n",
    "\n",
    "- At iteration 0, for each particle:\n",
    "    1. Generate $\\theta_i^* \\sim \\pi(\\theta)$. \n",
    "    2. Simulate a dataset $D_i^* \\sim \\pi(D|\\theta_i^*)$\n",
    "    3. If  $\\rho(S(D_i^*) - S(D))<\\epsilon_0$ accept $\\theta_i^*$ else go to 1.\n",
    "- set $\\theta_{i,0} = \\theta_i^*$\n",
    "- set weights for each particle $w_{i,0} = 1/N$\n",
    "- evaluate the covariance amongst particles $\\sigma^2_{1:N;0}$\n",
    "- At iteration t>0, for each particle: \n",
    "    4. Sample random particle from previous iteration $\\theta_i^* \\sim \\theta_{1:N;0}$ \n",
    "    5. Perturb $\\theta_i^*$ by drawing $\\theta_i^{**} \\sim \\mathcal{N}(\\theta^*, \\sigma^2_{t-1})$\n",
    "    6. Simulate a dataset $D_i^* \\sim \\pi(D|\\theta_i^{**})$\n",
    "    7. If  $\\rho(S(D_i^*) - S(D))<\\epsilon_0$ accept $\\theta_i^{**}$ else go to 4.\n",
    "- set $\\theta_{i,t} = \\theta_i^{**}$\n",
    "- set weights for each particle $w_{i,t}$ using a transition kernel\n",
    "- evaluate the covariance amongst particles $\\sigma^2_{1:N;t}$\n",
    "    \n",
    "Different ABC SMC algorithms can be distinguished\n",
    "by how sampling weights are assigned to the particles in the pool.\n",
    "In order to perturb and filter the particles we need a transition kernel. The transition\n",
    "kernel serves the same purpose as the proposal distribution in a standard\n",
    "MCMC algorithm. The transition kernel specifies the distribution of a random variable that will\n",
    "be added to each particle to move it around in the parameter space.\n",
    "For more details on this please see \n",
    "[Beaumont et al 2009]( https://arxiv.org/abs/0805.2256)."
   ]
  },
  {
   "cell_type": "markdown",
   "metadata": {},
   "source": [
    "# Testing and Debugging the code"
   ]
  },
  {
   "cell_type": "code",
   "execution_count": null,
   "metadata": {},
   "outputs": [],
   "source": []
  },
  {
   "cell_type": "code",
   "execution_count": 14,
   "metadata": {},
   "outputs": [
    {
     "name": "stdout",
     "output_type": "stream",
     "text": [
      "[16  6  8 16  6  8]\n"
     ]
    }
   ],
   "source": [
    ">>> a = np.array([[ 5, 1 ,3], \n",
    "                  [ 1, 1 ,1], \n",
    "                  [ 1, 2 ,1],[ 5, 1 ,3], \n",
    "                  [ 1, 1 ,1], \n",
    "                  [ 1, 2 ,1]])\n",
    ">>> b = np.array([1, 2, 3])\n",
    "c=a.dot(b)\n",
    ">>> print (a.dot(b))\n"
   ]
  },
  {
   "cell_type": "code",
   "execution_count": 15,
   "metadata": {},
   "outputs": [
    {
     "data": {
      "text/plain": [
       "array([[17,  8, 11],\n",
       "       [17,  8, 11]])"
      ]
     },
     "execution_count": 15,
     "metadata": {},
     "output_type": "execute_result"
    }
   ],
   "source": [
    "c.reshape(2,3)+b"
   ]
  },
  {
   "cell_type": "code",
   "execution_count": 16,
   "metadata": {},
   "outputs": [
    {
     "data": {
      "text/plain": [
       "(6,)"
      ]
     },
     "execution_count": 16,
     "metadata": {},
     "output_type": "execute_result"
    }
   ],
   "source": [
    "c.shape"
   ]
  },
  {
   "cell_type": "code",
   "execution_count": 17,
   "metadata": {},
   "outputs": [
    {
     "data": {
      "text/plain": [
       "(6, 3)"
      ]
     },
     "execution_count": 17,
     "metadata": {},
     "output_type": "execute_result"
    }
   ],
   "source": [
    "a.shape"
   ]
  },
  {
   "cell_type": "code",
   "execution_count": 18,
   "metadata": {},
   "outputs": [
    {
     "data": {
      "text/plain": [
       "(3,)"
      ]
     },
     "execution_count": 18,
     "metadata": {},
     "output_type": "execute_result"
    }
   ],
   "source": [
    "b.shape"
   ]
  },
  {
   "cell_type": "code",
   "execution_count": 19,
   "metadata": {},
   "outputs": [],
   "source": [
    "####################################\n",
    "### Generate synthetic catalogue ###\n",
    "####################################\n",
    "\n",
    "# LMC fixed hyperparameters\n",
    "dist_centre_lmc=50. \n",
    "alpha_centre_lmc=80.8939*np.pi/180. \n",
    "delta_centre_lmc=-69.7561*np.pi/180.\n",
    "pos_angle_lmc=(122.5 + 90.)*np.pi/180.\n",
    "inc_angle_lmc=34.7*np.pi/180. \n",
    "\n",
    "# Disk component fixed hyperparameters\n",
    "disk_scale_height = 0.35\n",
    "disk_scale_length = 1.6\n",
    "pos_angle_disk = 202.7*np.pi/180\n",
    "ell_factor_disk = 0.688 \n",
    "\n",
    "# Uncertainty on measurements roughly estimated from the catalogue\n",
    "ra_error_mean   = 0.1711426\n",
    "ra_error_var = 0.006506719\n",
    "\n",
    "dec_error_mean    =  0.1804739\n",
    "dec_error_var = 0.007289793 \n",
    "\n",
    "plx_error_mean  =  0.1758596\n",
    "plx_error_var = 0.006775405 \n",
    "\n",
    "\n",
    "# Set No of samples we want to generate\n",
    "N = 10000"
   ]
  },
  {
   "cell_type": "markdown",
   "metadata": {},
   "source": [
    "## Testing disk_fn function"
   ]
  },
  {
   "cell_type": "code",
   "execution_count": 20,
   "metadata": {
    "scrolled": true
   },
   "outputs": [],
   "source": [
    "N = 100000"
   ]
  },
  {
   "cell_type": "code",
   "execution_count": 21,
   "metadata": {},
   "outputs": [
    {
     "name": "stdout",
     "output_type": "stream",
     "text": [
      "mat11 (100000, 3)\n"
     ]
    }
   ],
   "source": [
    "# Generate disk location coordinates in the LMC proper reference frame\n",
    "xyz_propern = disk_fn(N, disk_scale_height, disk_scale_length, \n",
    "                     pos_angle_disk - pos_angle_lmc, ell_factor_disk)\n",
    "\n",
    "# Transform from proper to heliocentric frame\n",
    "xyz_geon =  proper2geo_fn(xyz_propern, dist_centre_lmc, alpha_centre_lmc,\n",
    "                         delta_centre_lmc, pos_angle_lmc, inc_angle_lmc )\n",
    "\n",
    "# Generate (ra,dec,plx) true values\n",
    "\n",
    "cyl_plxn  =   geo2plx_fn(xyz_geon)"
   ]
  },
  {
   "cell_type": "code",
   "execution_count": 22,
   "metadata": {},
   "outputs": [],
   "source": [
    "# Generate disk location coordinates in the LMC proper reference frame\n",
    "xyz_propert = disk_fnt(N, disk_scale_height, disk_scale_length, \n",
    "                     pos_angle_disk - pos_angle_lmc, ell_factor_disk)\n",
    "\n",
    "# Transform from proper to heliocentric frame\n",
    "xyz_geot =  proper2geo_fnt(xyz_propert, dist_centre_lmc, alpha_centre_lmc,\n",
    "                         delta_centre_lmc, pos_angle_lmc, inc_angle_lmc )\n",
    "\n",
    "# Generate (ra,dec,plx) true values\n",
    "\n",
    "cyl_plxt  =   geo2plx_fnt(xyz_geot)\n"
   ]
  },
  {
   "cell_type": "code",
   "execution_count": 23,
   "metadata": {},
   "outputs": [
    {
     "data": {
      "image/png": "[encoded data removed]",
      "text/plain": [
       "<Figure size 720x360 with 1 Axes>"
      ]
     },
     "metadata": {
      "needs_background": "light"
     },
     "output_type": "display_data"
    }
   ],
   "source": [
    "x=xyz_propert[:,0]\n",
    "y=xyz_propert[:,1]\n",
    "z=xyz_propert[:,2]\n",
    "\n",
    "\n",
    "\n",
    "plt.figure(figsize=(10,5))\n",
    "plt.hist2d(x,y,100)\n",
    "plt.ylim(-10,10)\n",
    "plt.xlim(-10,10)\n",
    "plt.show()"
   ]
  },
  {
   "cell_type": "code",
   "execution_count": 24,
   "metadata": {},
   "outputs": [
    {
     "data": {
      "image/png": "[encoded data removed]",
      "text/plain": [
       "<Figure size 720x360 with 1 Axes>"
      ]
     },
     "metadata": {
      "needs_background": "light"
     },
     "output_type": "display_data"
    }
   ],
   "source": [
    "x=xyz_propert[:,0]\n",
    "y=xyz_propert[:,1]\n",
    "z=xyz_propert[:,2]\n",
    "\n",
    "\n",
    "\n",
    "plt.figure(figsize=(10,5))\n",
    "plt.hist2d(x,z,100)\n",
    "plt.show()"
   ]
  },
  {
   "cell_type": "code",
   "execution_count": 25,
   "metadata": {},
   "outputs": [
    {
     "data": {
      "image/png": "[encoded data removed]",
      "text/plain": [
       "<Figure size 720x360 with 1 Axes>"
      ]
     },
     "metadata": {
      "needs_background": "light"
     },
     "output_type": "display_data"
    }
   ],
   "source": [
    "x=xyz_propern[:,0]\n",
    "y=xyz_propern[:,1]\n",
    "z=xyz_propern[:,2]\n",
    "\n",
    "\n",
    "\n",
    "plt.figure(figsize=(10,5))\n",
    "plt.hist2d(x,y,100)\n",
    "plt.ylim(-10,10)\n",
    "plt.xlim(-10,10)\n",
    "plt.show()"
   ]
  },
  {
   "cell_type": "code",
   "execution_count": 26,
   "metadata": {},
   "outputs": [
    {
     "data": {
      "image/png": "[encoded data removed]",
      "text/plain": [
       "<Figure size 720x360 with 1 Axes>"
      ]
     },
     "metadata": {
      "needs_background": "light"
     },
     "output_type": "display_data"
    }
   ],
   "source": [
    "x=xyz_propern[:,0]\n",
    "y=xyz_propern[:,1]\n",
    "z=xyz_propern[:,2]\n",
    "\n",
    "\n",
    "\n",
    "plt.figure(figsize=(10,5))\n",
    "plt.hist2d(x,z,100)\n",
    "plt.show()"
   ]
  },
  {
   "cell_type": "code",
   "execution_count": null,
   "metadata": {},
   "outputs": [],
   "source": []
  },
  {
   "cell_type": "code",
   "execution_count": null,
   "metadata": {},
   "outputs": [],
   "source": []
  },
  {
   "cell_type": "code",
   "execution_count": null,
   "metadata": {},
   "outputs": [],
   "source": []
  },
  {
   "cell_type": "code",
   "execution_count": null,
   "metadata": {},
   "outputs": [],
   "source": []
  },
  {
   "cell_type": "code",
   "execution_count": 27,
   "metadata": {},
   "outputs": [],
   "source": [
    "r1 = tfd.Gamma(concentration=2, rate=1/1.6).sample(100000000 )\n",
    "r2 =np.random.gamma(shape = 2,scale = 1.6, size = 100000000)"
   ]
  },
  {
   "cell_type": "code",
   "execution_count": 28,
   "metadata": {},
   "outputs": [
    {
     "data": {
      "image/png": "[encoded data removed]",
      "text/plain": [
       "<Figure size 1440x720 with 1 Axes>"
      ]
     },
     "metadata": {
      "needs_background": "light"
     },
     "output_type": "display_data"
    }
   ],
   "source": [
    "%matplotlib inline\n",
    "import matplotlib.pyplot as plt\n",
    "plt.figure(figsize=(20,10))\n",
    "bins=np.arange(0,15,15/100)\n",
    "plt.hist(r1,bins=bins,histtype=\"step\",lw=4,label=\"Tensorflow\")\n",
    "plt.hist(r2,bins=bins,color=\"orange\",alpha=0.7,histtype=\"step\",lw=5,label=\"Numpy\")\n",
    "#plt.xlim(0,10)\n",
    "plt.xticks(fontsize=20 )\n",
    "plt.yticks(fontsize=20 )\n",
    "plt.legend(fontsize=30)\n",
    "plt.show()"
   ]
  },
  {
   "cell_type": "code",
   "execution_count": 29,
   "metadata": {},
   "outputs": [],
   "source": [
    "z = tfd.Laplace(loc=0., scale=0.35).sample(100000000 )\n",
    "z2 = np.random.laplace(loc=0., scale=0.35, size=100000000 )"
   ]
  },
  {
   "cell_type": "code",
   "execution_count": 30,
   "metadata": {},
   "outputs": [
    {
     "data": {
      "image/png": "[encoded data removed]",
      "text/plain": [
       "<Figure size 1440x720 with 1 Axes>"
      ]
     },
     "metadata": {
      "needs_background": "light"
     },
     "output_type": "display_data"
    }
   ],
   "source": [
    "%matplotlib inline\n",
    "import matplotlib.pyplot as plt\n",
    "bins=np.arange(-2,2,1/50)\n",
    "plt.figure(figsize=(20,10))\n",
    "plt.hist(z,bins=bins,histtype=\"step\",lw=4,label=\"Tensorflow\")\n",
    "plt.hist(z2,bins=bins,color=\"orange\",alpha=0.7,histtype=\"step\",lw=5,label=\"Numpy\")\n",
    "plt.xlim(-2,2)\n",
    "plt.xticks(fontsize=20 )\n",
    "plt.yticks(fontsize=20 )\n",
    "plt.legend(fontsize=30)\n",
    "plt.show()"
   ]
  },
  {
   "cell_type": "code",
   "execution_count": 31,
   "metadata": {},
   "outputs": [],
   "source": [
    "theta = tfd.Uniform(low=0., high=2.*np.pi).sample(10000000)\n",
    "\n",
    "theta2 = np.random.uniform(low=0., high=2.*np.pi, size = 10000000)"
   ]
  },
  {
   "cell_type": "code",
   "execution_count": 32,
   "metadata": {},
   "outputs": [
    {
     "data": {
      "image/png": "[encoded data removed]",
      "text/plain": [
       "<Figure size 1440x720 with 1 Axes>"
      ]
     },
     "metadata": {
      "needs_background": "light"
     },
     "output_type": "display_data"
    }
   ],
   "source": [
    "%matplotlib inline\n",
    "import matplotlib.pyplot as plt\n",
    "plt.figure(figsize=(20,10))\n",
    "plt.hist(theta,bins=100,histtype=\"step\",lw=4,label=\"Tensorflow\")\n",
    "plt.hist(theta2,bins=100,color=\"orange\",alpha=0.7,histtype=\"step\",lw=5,label=\"Numpy\")\n",
    "#plt.xlim(-2,2)\n",
    "plt.xticks(fontsize=20 )\n",
    "plt.yticks(fontsize=20 )\n",
    "plt.legend(fontsize=30)\n",
    "plt.show()"
   ]
  },
  {
   "cell_type": "code",
   "execution_count": 33,
   "metadata": {},
   "outputs": [
    {
     "name": "stdout",
     "output_type": "stream",
     "text": [
      "[[ 0.9854079  0.1702095  0.       ]\n",
      " [-0.1702095  0.9854079  0.       ]\n",
      " [ 0.         0.         1.       ]]\n"
     ]
    }
   ],
   "source": [
    "psiAngle=pos_angle_disk - pos_angle_lmc\n",
    "\n",
    "s11 =  np.cos(psiAngle) \n",
    "s12 = -np.sin(psiAngle)   \n",
    "s13 = np.zeros([])\n",
    "s21 =  np.sin(psiAngle)\n",
    "s22 =  np.cos(psiAngle)  \n",
    "s23 = np.zeros([])\n",
    "s31 = np.zeros([])  \n",
    "s32 = np.zeros([])  \n",
    "s33 = np.ones([])\n",
    "\n",
    "matrix = np.stack((s11,s12,s13,s21,s22,s23,s31,s32,s33),\n",
    "                  axis=-1)  # pyformat: disable\n",
    "output_shape = np.concatenate((\n",
    "np.shape(np.zeros(4))[:-1], (3, 3)), axis=-1)\n",
    "\n",
    "OXYZ6 = np.reshape(matrix, output_shape.astype(int))\n",
    "\n",
    "print(OXYZ6)"
   ]
  },
  {
   "cell_type": "code",
   "execution_count": null,
   "metadata": {},
   "outputs": [],
   "source": []
  },
  {
   "cell_type": "code",
   "execution_count": 34,
   "metadata": {},
   "outputs": [
    {
     "name": "stdout",
     "output_type": "stream",
     "text": [
      "mat11 [[ 0.22754503  0.06022696  0.17226667 ... -1.04585748  0.30013476\n",
      "   0.3394386 ]\n",
      " [ 0.3329387   0.07979538  4.1733637  ... -1.3962914   4.43172252\n",
      "  -2.38348135]\n",
      " [-0.37229782 -0.15799841 -0.75472072 ...  0.09022269  0.14243337\n",
      "   0.07758876]]\n"
     ]
    },
    {
     "data": {
      "image/png": "[encoded data removed]",
      "text/plain": [
       "<Figure size 720x360 with 1 Axes>"
      ]
     },
     "metadata": {
      "needs_background": "light"
     },
     "output_type": "display_data"
    }
   ],
   "source": [
    "n=100000\n",
    "ellFactor=0.688 \n",
    "#r = tfd.Gamma(concentration=2, rate=1./scaleLength).sample(n )\n",
    "r = np.random.gamma(shape = 2,scale = 1.6, size = n)\n",
    "theta = np.random.uniform(low=0., high=2.*np.pi, size = n)\n",
    "\n",
    "x = ellFactor * r * np.cos(theta)\n",
    "y = r * np.sin(theta)\n",
    "\n",
    "z = np.random.laplace(loc=0., scale=0.35, size=n )\n",
    "\n",
    "#chain = tfb.Chain([  S3_ALO ])\n",
    "output1n=OXYZ6.dot(np.stack([x,y,z],axis=1).T)\n",
    "print(\"mat11\",output1n)\n",
    "\n",
    "\n",
    "\n",
    "\n",
    "plt.figure(figsize=(10,5))\n",
    "plt.hist2d(x,y,100)\n",
    "plt.xlim(-10,10)\n",
    "plt.ylim(-10,10)\n",
    "plt.show()\n",
    "\n"
   ]
  },
  {
   "cell_type": "code",
   "execution_count": 35,
   "metadata": {},
   "outputs": [
    {
     "name": "stdout",
     "output_type": "stream",
     "text": [
      "tf.Tensor(\n",
      "[[ 0.9854079  0.1702095  0.       ]\n",
      " [-0.1702095  0.9854079  0.       ]\n",
      " [ 0.         0.         1.       ]], shape=(3, 3), dtype=float32)\n"
     ]
    }
   ],
   "source": [
    "s11 =  tf.cos(psiAngle) \n",
    "s12 = -tf.sin(psiAngle)   \n",
    "s13 = tf.zeros([])\n",
    "s21 =  tf.sin(psiAngle)\n",
    "s22 =  tf.cos(psiAngle)  \n",
    "s23 = tf.zeros([])\n",
    "s31 = tf.zeros([])  \n",
    "s32 = tf.zeros([])  \n",
    "s33 = tf.ones([])\n",
    "\n",
    "matrix = tf.stack((s11,s12,s13,s21,s22,s23,s31,s32,s33),\n",
    "                  axis=-1)  # pyformat: disable\n",
    "\n",
    "output_shape = tf.concat((\n",
    "    tf.shape(input=tf.zeros(4))[:-1], (3, 3)), axis=-1)\n",
    "\n",
    "OXYZ6 = tf.reshape(matrix, shape=output_shape)\n",
    "\n",
    "print(OXYZ6)"
   ]
  },
  {
   "cell_type": "code",
   "execution_count": 36,
   "metadata": {},
   "outputs": [
    {
     "name": "stdout",
     "output_type": "stream",
     "text": [
      "<tensorflow.python.ops.linalg.linear_operator_full_matrix.LinearOperatorFullMatrix object at 0x7f73440b0d50>\n",
      "Alo <tensorflow_probability.python.bijectors.affine_linear_operator.AffineLinearOperator object at 0x7f73440b0b90>\n",
      "Shape tf.Tensor(\n",
      "[[-1.3243501e+00  1.3101678e+00  5.7621402e-01]\n",
      " [ 8.8930392e-01  8.2155883e-01 -1.3626801e-02]\n",
      " [-1.4779410e+00 -6.4676533e+00  7.6975986e-02]\n",
      " ...\n",
      " [-4.5892707e-01  1.9046977e+00 -2.8928617e-01]\n",
      " [ 3.1269857e-01  2.1257449e-02  4.5752092e-03]\n",
      " [-2.0769589e+00  1.9794703e-03  8.8484836e-01]], shape=(100000, 3), dtype=float32)\n"
     ]
    },
    {
     "data": {
      "image/png": "[encoded data removed]",
      "text/plain": [
       "<Figure size 720x360 with 1 Axes>"
      ]
     },
     "metadata": {
      "needs_background": "light"
     },
     "output_type": "display_data"
    }
   ],
   "source": [
    "S3_ = tf.linalg.LinearOperatorFullMatrix(OXYZ6)\n",
    "print(S3_)\n",
    "S3_ALO = tfb.AffineLinearOperator(shift=tf.zeros(3), scale=S3_)\n",
    "print(\"Alo\",S3_ALO)\n",
    "r = tfd.Gamma(concentration=2, rate=1./1.6).sample(n )\n",
    "theta = tfd.Uniform(low=0., high=2.*np.pi).sample(n )\n",
    "\n",
    "x = ellFactor * r * tf.cos(theta)\n",
    "y = r * tf.sin(theta)\n",
    "\n",
    "z = tfd.Laplace(loc=0., scale=0.35).sample(n )\n",
    "\n",
    "chain = tfb.Chain([  S3_ALO ])\n",
    "\n",
    "output1= chain._forward(tf.stack([x, y, z], axis=1))\n",
    "print(\"Shape\",output1)\n",
    "\n",
    "\n",
    "\n",
    "\n",
    "plt.figure(figsize=(10,5))\n",
    "plt.hist2d(x,y,100)\n",
    "plt.ylim(-10,10)\n",
    "plt.xlim(-10,10)\n",
    "plt.show()"
   ]
  },
  {
   "cell_type": "code",
   "execution_count": 37,
   "metadata": {},
   "outputs": [
    {
     "data": {
      "image/png": "[encoded data removed]",
      "text/plain": [
       "<Figure size 720x360 with 1 Axes>"
      ]
     },
     "metadata": {
      "needs_background": "light"
     },
     "output_type": "display_data"
    }
   ],
   "source": [
    "\n",
    "x=xyz_geon[:,0]\n",
    "y=xyz_geon[:,1]\n",
    "z=xyz_geon[:,2]\n",
    "\n",
    "plt.figure(figsize=(10,5))\n",
    "plt.hist2d(x,y,100)\n",
    "plt.xlim(-10,15)\n",
    "plt.ylim(10,24)\n",
    "plt.show()"
   ]
  },
  {
   "cell_type": "code",
   "execution_count": null,
   "metadata": {},
   "outputs": [],
   "source": []
  },
  {
   "cell_type": "code",
   "execution_count": 38,
   "metadata": {},
   "outputs": [],
   "source": [
    "x=xyz_geot[:,0]\n",
    "y=xyz_geot[:,1]\n",
    "z=xyz_geot[:,2]\n",
    "\n",
    "  "
   ]
  },
  {
   "cell_type": "code",
   "execution_count": 39,
   "metadata": {},
   "outputs": [
    {
     "data": {
      "image/png": "[encoded data removed]",
      "text/plain": [
       "<Figure size 720x360 with 1 Axes>"
      ]
     },
     "metadata": {
      "needs_background": "light"
     },
     "output_type": "display_data"
    }
   ],
   "source": [
    "plt.figure(figsize=(10,5))\n",
    "plt.hist2d(x,y,100)\n",
    "plt.xlim(-10,15)\n",
    "plt.ylim(10,24)\n",
    "plt.show() "
   ]
  },
  {
   "cell_type": "code",
   "execution_count": null,
   "metadata": {},
   "outputs": [],
   "source": []
  },
  {
   "cell_type": "code",
   "execution_count": null,
   "metadata": {},
   "outputs": [],
   "source": []
  },
  {
   "cell_type": "code",
   "execution_count": null,
   "metadata": {},
   "outputs": [],
   "source": []
  },
  {
   "cell_type": "code",
   "execution_count": null,
   "metadata": {},
   "outputs": [],
   "source": []
  }
 ],
 "metadata": {
  "accelerator": "TPU",
  "colab": {
   "authorship_tag": "ABX9TyOWad9bTZN87gEybaS/YuV1",
   "collapsed_sections": [],
   "name": "LMC-disk-simul.ipynb",
   "provenance": []
  },
  "kernelspec": {
   "display_name": "Python 3",
   "language": "python",
   "name": "python3"
  },
  "language_info": {
   "codemirror_mode": {
    "name": "ipython",
    "version": 3
   },
   "file_extension": ".py",
   "mimetype": "text/x-python",
   "name": "python",
   "nbconvert_exporter": "python",
   "pygments_lexer": "ipython3",
   "version": "3.7.6"
  }
 },
 "nbformat": 4,
 "nbformat_minor": 1
}
